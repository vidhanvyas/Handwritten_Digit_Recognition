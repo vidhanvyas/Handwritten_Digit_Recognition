{
  "nbformat": 4,
  "nbformat_minor": 0,
  "metadata": {
    "colab": {
      "provenance": []
    },
    "kernelspec": {
      "name": "python3",
      "display_name": "Python 3"
    },
    "language_info": {
      "name": "python"
    }
  },
  "cells": [
    {
      "cell_type": "code",
      "execution_count": null,
      "metadata": {
        "colab": {
          "base_uri": "https://localhost:8080/"
        },
        "id": "fXFGKCvdiev7",
        "outputId": "bd0f27e8-fdff-450e-f14e-8cfed8a3d39a"
      },
      "outputs": [
        {
          "output_type": "stream",
          "name": "stdout",
          "text": [
            "Downloading data from https://storage.googleapis.com/tensorflow/tf-keras-datasets/mnist.npz\n",
            "11490434/11490434 [==============================] - 0s 0us/step\n"
          ]
        }
      ],
      "source": [
        "import tensorflow as tf\n",
        "\n",
        "# Load the MNIST dataset\n",
        "mnist = tf.keras.datasets.mnist\n",
        "(train_images, train_labels), (test_images, test_labels) = mnist.load_data()\n",
        "\n",
        "# Normalize pixel values to be between 0 and 1\n",
        "train_images, test_images = train_images / 255.0, test_images / 255.0\n"
      ]
    },
    {
      "cell_type": "code",
      "source": [
        "import numpy as np\n",
        "\n",
        "# Save data to a NumPy file\n",
        "np.savez('mnist_dataset.npz', train_images=train_images, train_labels=train_labels, test_images=test_images, test_labels=test_labels)\n"
      ],
      "metadata": {
        "id": "wQ_UVclSi4J2"
      },
      "execution_count": null,
      "outputs": []
    },
    {
      "cell_type": "code",
      "source": [
        "import matplotlib.pyplot as plt\n",
        "# Display a few random images from the training set\n",
        "plt.figure(figsize=(10, 5))\n",
        "for i in range(10):\n",
        "    plt.subplot(2, 5, i + 1)\n",
        "    random_index = np.random.randint(0, len(train_images))\n",
        "    plt.imshow(train_images[random_index], cmap='gray')\n",
        "    plt.title(f\"Label: {train_labels[random_index]}\")\n",
        "    plt.axis('off')\n",
        "\n",
        "plt.show()"
      ],
      "metadata": {
        "colab": {
          "base_uri": "https://localhost:8080/",
          "height": 402
        },
        "id": "NNncYnd1nDpD",
        "outputId": "b2054e02-8e72-4f0d-a788-0b9f218223ac"
      },
      "execution_count": null,
      "outputs": [
        {
          "output_type": "display_data",
          "data": {
            "text/plain": [
              "<Figure size 1000x500 with 10 Axes>"
            ],
            "image/png": "[encoded data removed]"
          },
          "metadata": {}
        }
      ]
    },
    {
      "cell_type": "code",
      "source": [
        "from tensorflow import keras\n",
        "from tensorflow.keras import layers, models\n",
        "# Build the CNN model\n",
        "model = models.Sequential([\n",
        "    layers.Conv2D(32, (3, 3), activation='relu', input_shape=(28, 28, 1)),\n",
        "    layers.MaxPooling2D((2, 2)),\n",
        "    layers.Flatten(),\n",
        "    layers.Dense(128, activation='relu'),\n",
        "    layers.Dense(10, activation='softmax')  # 10 output classes (digits 0 through 9)\n",
        "])\n",
        "\n",
        "model.compile(optimizer='adam',\n",
        "              loss='sparse_categorical_crossentropy',\n",
        "              metrics=['accuracy'])\n",
        "\n",
        "# Reshape the images to (num_samples, height, width, channels)\n",
        "train_images = train_images.reshape((-1, 28, 28, 1))\n",
        "test_images = test_images.reshape((-1, 28, 28, 1))\n",
        "\n",
        "# Train the model\n",
        "model.fit(train_images, train_labels, epochs=5, validation_data=(test_images, test_labels))\n",
        "\n",
        "# Evaluate the model\n",
        "test_loss, test_acc = model.evaluate(test_images, test_labels)\n",
        "print(f'Test accuracy: {test_acc}')\n",
        "\n",
        "# Save the model for later use\n",
        "model.save('digit_recognition_model.h5')\n"
      ],
      "metadata": {
        "colab": {
          "base_uri": "https://localhost:8080/"
        },
        "id": "rHphO5RfjMQq",
        "outputId": "6d2ffe17-a59f-485d-9ff7-b41501f886b2"
      },
      "execution_count": null,
      "outputs": [
        {
          "output_type": "stream",
          "name": "stdout",
          "text": [
            "Epoch 1/5\n",
            "1875/1875 [==============================] - 47s 24ms/step - loss: 0.1519 - accuracy: 0.9549 - val_loss: 0.0608 - val_accuracy: 0.9799\n",
            "Epoch 2/5\n",
            "1875/1875 [==============================] - 43s 23ms/step - loss: 0.0496 - accuracy: 0.9851 - val_loss: 0.0471 - val_accuracy: 0.9836\n",
            "Epoch 3/5\n",
            "1875/1875 [==============================] - 44s 23ms/step - loss: 0.0318 - accuracy: 0.9900 - val_loss: 0.0380 - val_accuracy: 0.9871\n",
            "Epoch 4/5\n",
            "1875/1875 [==============================] - 42s 23ms/step - loss: 0.0219 - accuracy: 0.9927 - val_loss: 0.0446 - val_accuracy: 0.9857\n",
            "Epoch 5/5\n",
            "1875/1875 [==============================] - 44s 24ms/step - loss: 0.0143 - accuracy: 0.9955 - val_loss: 0.0492 - val_accuracy: 0.9853\n",
            "313/313 [==============================] - 2s 7ms/step - loss: 0.0492 - accuracy: 0.9853\n",
            "Test accuracy: 0.9853000044822693\n"
          ]
        },
        {
          "output_type": "stream",
          "name": "stderr",
          "text": [
            "/usr/local/lib/python3.10/dist-packages/keras/src/engine/training.py:3103: UserWarning: You are saving your model as an HDF5 file via `model.save()`. This file format is considered legacy. We recommend using instead the native Keras format, e.g. `model.save('my_model.keras')`.\n",
            "  saving_api.save_model(\n"
          ]
        }
      ]
    },
    {
      "cell_type": "code",
      "source": [
        "# convert the model to TensorFLow Lite format\n",
        "converter = tf.lite.TFLiteConverter.from_keras_model(model)\n",
        "tflite_model = converter.convert()\n",
        "\n",
        "# Save the model to a file\n",
        "with open('Digit_recognation.tflite', 'wb') as f:\n",
        "  f.write(tflite_model)"
      ],
      "metadata": {
        "id": "5gb0R9uqmeEs"
      },
      "execution_count": null,
      "outputs": []
    }
  ]
}